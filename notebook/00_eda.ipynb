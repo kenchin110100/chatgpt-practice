{
 "cells": [
  {
   "cell_type": "markdown",
   "id": "5c6b6c08",
   "metadata": {},
   "source": [
    "ChatGPT API試し打ち"
   ]
  },
  {
   "cell_type": "code",
   "execution_count": 2,
   "id": "b70be108",
   "metadata": {},
   "outputs": [],
   "source": [
    "import os\n",
    "import openai\n",
    "from dotenv import load_dotenv\n",
    "\n",
    "load_dotenv('../.env')\n",
    "\n",
    "openai.api_key = os.environ.get(\"API_KEY\")"
   ]
  },
  {
   "cell_type": "code",
   "execution_count": 4,
   "id": "5a7d285b",
   "metadata": {},
   "outputs": [
    {
     "name": "stdout",
     "output_type": "stream",
     "text": [
      "相対性理論とは、アルバート・アインシュタインが考え出した理論で、時間や空間についての考え方を変えることを提唱しました。\n",
      "\n",
      "たとえば、私たちは普段、何気なく時間が一定であると考えていますが、相対性理論では時間は実は移動や重力の影響を受けて変化することがあるとされています。また、空間も同じように、物体の存在や運動によって変化するとされています。\n",
      "\n",
      "これらの考え方は、普段私たちが感じる直感的な考え方とは異なりますが、科学的実験や観測によって裏付けられています。\n",
      "\n",
      "つまり、相対性理論は、私たちが普段受けている教育や考え方を覆すようなものではありますが、科学や実験に基づいた理論であり、大切な発見・発明や技術革新につながる重要な学問の一つとなっています。\n"
     ]
    }
   ],
   "source": [
    "system_message = \"教師\"\n",
    "user_message = \"\"\"\n",
    "相対性理論について小学生でもわかるように教えてください\n",
    "\"\"\"\n",
    "\n",
    "response = openai.ChatCompletion.create(\n",
    "    model=\"gpt-3.5-turbo\",\n",
    "    messages=[\n",
    "        {\"role\": \"system\", \"content\": system_message},\n",
    "        {\"role\": \"user\", \"content\": user_message},\n",
    "    ]\n",
    ")\n",
    "print(response[\"choices\"][0][\"message\"][\"content\"])"
   ]
  },
  {
   "cell_type": "code",
   "execution_count": null,
   "id": "da220c8d",
   "metadata": {},
   "outputs": [],
   "source": []
  }
 ],
 "metadata": {
  "kernelspec": {
   "display_name": "Python 3 (ipykernel)",
   "language": "python",
   "name": "python3"
  },
  "language_info": {
   "codemirror_mode": {
    "name": "ipython",
    "version": 3
   },
   "file_extension": ".py",
   "mimetype": "text/x-python",
   "name": "python",
   "nbconvert_exporter": "python",
   "pygments_lexer": "ipython3",
   "version": "3.9.4"
  },
  "toc": {
   "base_numbering": 1,
   "nav_menu": {},
   "number_sections": true,
   "sideBar": true,
   "skip_h1_title": false,
   "title_cell": "Table of Contents",
   "title_sidebar": "Contents",
   "toc_cell": false,
   "toc_position": {},
   "toc_section_display": true,
   "toc_window_display": false
  },
  "vscode": {
   "interpreter": {
    "hash": "27a6abca67bb39cbd92d2a989b8bfd9c8e11aa524f99e8cba9be580fc7c77072"
   }
  }
 },
 "nbformat": 4,
 "nbformat_minor": 5
}
